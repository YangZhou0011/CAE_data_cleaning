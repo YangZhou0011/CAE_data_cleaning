{
 "cells": [
  {
   "cell_type": "code",
   "execution_count": 15,
   "metadata": {},
   "outputs": [
    {
     "ename": "ValueError",
     "evalue": "too many values to unpack (expected 2)",
     "output_type": "error",
     "traceback": [
      "\u001b[1;31m---------------------------------------------------------------------------\u001b[0m",
      "\u001b[1;31mValueError\u001b[0m                                Traceback (most recent call last)",
      "Cell \u001b[1;32mIn[15], line 6\u001b[0m\n\u001b[0;32m      3\u001b[0m smoothed_rc_records \u001b[38;5;241m=\u001b[39m np\u001b[38;5;241m.\u001b[39mload(\u001b[38;5;124m'\u001b[39m\u001b[38;5;124mpaperplot/results_GCL_with_RC_dirtyrain/rc_records.npy\u001b[39m\u001b[38;5;124m'\u001b[39m, allow_pickle\u001b[38;5;241m=\u001b[39m\u001b[38;5;28;01mTrue\u001b[39;00m)\u001b[38;5;241m.\u001b[39mitem() \u001b[38;5;66;03m#现在是没有平滑的rc！！！！！\u001b[39;00m\n\u001b[0;32m      5\u001b[0m epoch \u001b[38;5;241m=\u001b[39m \u001b[38;5;241m50\u001b[39m\n\u001b[1;32m----> 6\u001b[0m rc_values, indices \u001b[38;5;241m=\u001b[39m smoothed_rc_records[epoch][\u001b[38;5;241m1\u001b[39m]\n\u001b[0;32m      8\u001b[0m rc_values \u001b[38;5;241m=\u001b[39m np\u001b[38;5;241m.\u001b[39marray(rc_values)\n\u001b[0;32m      9\u001b[0m indices \u001b[38;5;241m=\u001b[39m np\u001b[38;5;241m.\u001b[39marray(indices)\n",
      "\u001b[1;31mValueError\u001b[0m: too many values to unpack (expected 2)"
     ]
    }
   ],
   "source": [
    "import numpy as np\n",
    "SIGMA = 14\n",
    "smoothed_rc_records = np.load('paperplot/results_GCL_with_RC_dirtyrain/rc_records.npy', allow_pickle=True).item() #现在是没有平滑的rc！！！！！\n",
    "\n",
    "epoch = 50\n",
    "rc_values, indices = smoothed_rc_records[epoch][1]\n",
    "\n",
    "rc_values = np.array(rc_values)\n",
    "indices = np.array(indices)\n",
    "\n",
    "top_50_percent = int(len(rc_values) * 0.5)\n",
    "top_50_indices = np.argpartition(rc_values, -top_50_percent)[-top_50_percent:]\n",
    "top_50_rc_values = rc_values[top_50_indices]\n",
    "\n",
    "mean_rc = np.mean(top_50_rc_values)\n",
    "print(\"mean_rc:\", mean_rc)\n",
    "std_rc = np.std(top_50_rc_values)\n",
    "print(\"std_rc:\", std_rc)\n",
    "\n",
    "lower_bound = mean_rc - SIGMA * std_rc\n",
    "\n",
    "below_threshold_indices = np.where(rc_values < lower_bound)[0]\n",
    "\n",
    "remaining_indices = np.delete(indices, below_threshold_indices)\n",
    "print(\"异常检测之后得到的数据集中正确数据数量：\",len(remaining_indices))\n",
    "\n",
    "dirty_indices = remaining_indices[remaining_indices > 16000]\n",
    "dirty_percentage = (len(dirty_indices) / len(remaining_indices)) * 100\n",
    "\n",
    "# output_file = 'results_mse16000_plastic/remaining_indices.txt'\n",
    "# np.savetxt(output_file, remaining_indices, fmt='%d')\n",
    "\n",
    "# print(f\"已删除低于下限的数据，剩余数据的索引已保存到 {output_file}\")\n",
    "print(f\"异常检测之后得到的数据集中脏数据所占百分比: {dirty_percentage:.2f}%\")"
   ]
  }
 ],
 "metadata": {
  "kernelspec": {
   "display_name": "ml",
   "language": "python",
   "name": "python3"
  },
  "language_info": {
   "codemirror_mode": {
    "name": "ipython",
    "version": 3
   },
   "file_extension": ".py",
   "mimetype": "text/x-python",
   "name": "python",
   "nbconvert_exporter": "python",
   "pygments_lexer": "ipython3",
   "version": "3.10.14"
  }
 },
 "nbformat": 4,
 "nbformat_minor": 4
}
