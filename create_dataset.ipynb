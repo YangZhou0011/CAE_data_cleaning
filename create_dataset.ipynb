{
 "cells": [
  {
   "cell_type": "code",
   "execution_count": 1,
   "metadata": {},
   "outputs": [
    {
     "name": "stdout",
     "output_type": "stream",
     "text": [
      "新数据集已保存为 16000clean5dirty.pkl\n"
     ]
    }
   ],
   "source": [
    "import os\n",
    "import numpy as np\n",
    "import pickle\n",
    "from PIL import Image\n",
    "\n",
    "def load_images_from_folder(folder, target_size=(224, 224)):\n",
    "    images = []\n",
    "    for filename in os.listdir(folder):\n",
    "        if filename.endswith('.jpg'):\n",
    "            img_path = os.path.join(folder, filename)\n",
    "            img = Image.open(img_path).convert('RGB')\n",
    "            img = img.resize(target_size)\n",
    "            img_array = np.array(img, dtype=np.uint8)\n",
    "            images.append(img_array)\n",
    "    return np.array(images)\n",
    "\n",
    "clean_folder = 'D:/Documents/UFstudy/AD/driving_ad/trainingset/16000clean4dirty/clean'\n",
    "foggy_folder = 'D:/Documents/UFstudy/AD/driving_ad/trainingset/16000clean4dirty/foggy'\n",
    "greenmarker_folder = 'D:/Documents/UFstudy/AD/driving_ad/trainingset/16000clean4dirty/greenmarker' \n",
    "plastic_folder = 'D:/Documents/UFstudy/AD/driving_ad/trainingset/16000clean4dirty/plastic'\n",
    "raindrop_folder = 'D:/Documents/UFstudy/AD/driving_ad/trainingset/16000clean4dirty/raindrop'\n",
    "hitwall_folder = 'D:/Documents/UFstudy/AD/driving_ad/trainingset/16000clean4dirty/hitwall'\n",
    "\n",
    "# 加载图像数据\n",
    "clean_images = load_images_from_folder(clean_folder)\n",
    "foggy_images = load_images_from_folder(foggy_folder)\n",
    "greenmarker_images = load_images_from_folder(greenmarker_folder)\n",
    "plastic_images = load_images_from_folder(plastic_folder)\n",
    "raindrop_images = load_images_from_folder(raindrop_folder)\n",
    "hitwall_images = load_images_from_folder(hitwall_folder)\n",
    "\n",
    "# 创建字典\n",
    "new_dataset = {\n",
    "    'clean': clean_images,\n",
    "    'foggy': foggy_images,\n",
    "    'greenmarker': greenmarker_images,\n",
    "    'plastic': plastic_images,\n",
    "    'raindrop': raindrop_images,\n",
    "    'hitwall': hitwall_images\n",
    "}\n",
    "\n",
    "# 保存为Pickle文件\n",
    "with open('16000clean5dirty.pkl', 'wb') as f:\n",
    "    pickle.dump(new_dataset, f)\n",
    "\n",
    "print(\"新数据集已保存为 16000clean5dirty.pkl\")\n"
   ]
  },
  {
   "cell_type": "code",
   "execution_count": null,
   "metadata": {},
   "outputs": [],
   "source": []
  }
 ],
 "metadata": {
  "kernelspec": {
   "display_name": "ml",
   "language": "python",
   "name": "python3"
  },
  "language_info": {
   "codemirror_mode": {
    "name": "ipython",
    "version": 3
   },
   "file_extension": ".py",
   "mimetype": "text/x-python",
   "name": "python",
   "nbconvert_exporter": "python",
   "pygments_lexer": "ipython3",
   "version": "3.10.14"
  }
 },
 "nbformat": 4,
 "nbformat_minor": 2
}
